{
  "nbformat": 4,
  "nbformat_minor": 0,
  "metadata": {
    "colab": {
      "name": "Assignment3.ipynb",
      "provenance": [],
      "collapsed_sections": [],
      "authorship_tag": "ABX9TyOvD/hTtaTyIaGuyOWfHH9Q",
      "include_colab_link": true
    },
    "kernelspec": {
      "name": "python3",
      "display_name": "Python 3"
    },
    "language_info": {
      "name": "python"
    }
  },
  "cells": [
    {
      "cell_type": "markdown",
      "metadata": {
        "id": "view-in-github",
        "colab_type": "text"
      },
      "source": [
        "<a href=\"https://colab.research.google.com/github/ravikumarchopra/DL-Assignment-3/blob/main/Assignment3.ipynb\" target=\"_parent\"><img src=\"https://colab.research.google.com/assets/colab-badge.svg\" alt=\"Open In Colab\"/></a>"
      ]
    },
    {
      "cell_type": "markdown",
      "metadata": {
        "id": "MIORuL94vFWN"
      },
      "source": [
        "**INSTALLATION**"
      ]
    },
    {
      "cell_type": "code",
      "metadata": {
        "colab": {
          "base_uri": "https://localhost:8080/"
        },
        "id": "W5mFxutZdyT5",
        "outputId": "3c8b05d1-2970-4589-aef9-42db8dacd520"
      },
      "source": [
        "!pip install tqdm\n",
        "from tqdm.notebook import tqdm\n",
        "import numpy as np\n",
        "import tensorflow as tf\n",
        "from tensorflow import keras\n",
        "from keras import Input\n",
        "from keras.callbacks import EarlyStopping\n",
        "from keras.layers import Embedding, SimpleRNN, LSTM, GRU, Dense\n",
        "from keras.models import Model"
      ],
      "execution_count": 1,
      "outputs": [
        {
          "output_type": "stream",
          "text": [
            "Requirement already satisfied: tqdm in /usr/local/lib/python3.7/dist-packages (4.41.1)\n"
          ],
          "name": "stdout"
        }
      ]
    },
    {
      "cell_type": "code",
      "metadata": {
        "id": "Nl2F4jsZehVy"
      },
      "source": [
        "batch_size = 64  # Batch size for training.\n",
        "epochs = 20  # Number of epochs to train for.\n",
        "latent_dim = 128  # Latent dimensionality of the encoding space.\n",
        "embedding_size = 128 # Number of features in Embedding\n",
        "num_samples = 44205  # Number of samples to train on.\n",
        "# Path to the data txt file on disk.\n",
        "#data_path = \"/content/drive/MyDrive/Deep Learning/dakshina_dataset_v1.0/hi/lexicons/hi.translit.sampled.train.tsv\""
      ],
      "execution_count": 2,
      "outputs": []
    },
    {
      "cell_type": "code",
      "metadata": {
        "colab": {
          "base_uri": "https://localhost:8080/"
        },
        "id": "I2EzB9OPe6lH",
        "outputId": "663ecfd8-73ab-4711-b14a-347caf0a28a0"
      },
      "source": [
        "from google.colab import drive\n",
        "drive.mount('/content/drive')"
      ],
      "execution_count": 3,
      "outputs": [
        {
          "output_type": "stream",
          "text": [
            "Mounted at /content/drive\n"
          ],
          "name": "stdout"
        }
      ]
    },
    {
      "cell_type": "code",
      "metadata": {
        "colab": {
          "base_uri": "https://localhost:8080/"
        },
        "id": "AuFJJ9p_e_Qt",
        "outputId": "08441bcd-34fb-44dc-cde1-f64f0e612452"
      },
      "source": [
        "cd /content/drive/MyDrive/dakshina_dataset_v1.0/hi/lexicons"
      ],
      "execution_count": 4,
      "outputs": [
        {
          "output_type": "stream",
          "text": [
            "/content/drive/MyDrive/dakshina_dataset_v1.0/hi/lexicons\n"
          ],
          "name": "stdout"
        }
      ]
    },
    {
      "cell_type": "code",
      "metadata": {
        "id": "7Fj9P_ShkHxi"
      },
      "source": [
        "data_path = \"hi.translit.sampled.train.tsv\"\n",
        "test_path=\"hi.translit.sampled.test.tsv\"\n",
        "val_path=\"hi.translit.sampled.dev.tsv\""
      ],
      "execution_count": 5,
      "outputs": []
    },
    {
      "cell_type": "markdown",
      "metadata": {
        "id": "ExHI43bPvOGe"
      },
      "source": [
        "**PREAPARING DATA**"
      ]
    },
    {
      "cell_type": "code",
      "metadata": {
        "id": "8nBXpWv8ff_z"
      },
      "source": [
        "def prepare_data(data_path, batch_size, num_samples):\n",
        "  with tf.device('/device:GPU:0'):  \n",
        "    input_texts = []\n",
        "    target_texts = []\n",
        "    input_characters = set()\n",
        "    target_characters = set()\n",
        "    with open(data_path, \"r\", encoding=\"utf-8\") as f:\n",
        "        lines = f.read().split(\"\\n\")\n",
        "        print()\n",
        "    for line in lines[: min(num_samples, len(lines) - 1)]:\n",
        "        target_text, input_text, _ = line.split(\"\\t\")\n",
        "        # We use \"tab\" as the \"start sequence\" character\n",
        "        # for the targets, and \"\\n\" as \"end sequence\" character.\n",
        "        target_text = \"\\t\" + target_text.strip(\"\\t\\n \") + \"\\n\"\n",
        "        input_texts.append(input_text.strip(\"\\t\\n \"))\n",
        "        target_texts.append(target_text)\n",
        "        for char in input_text:\n",
        "            if char not in input_characters:\n",
        "                input_characters.add(char)\n",
        "        for char in target_text:\n",
        "            if char not in target_characters:\n",
        "                target_characters.add(char)\n",
        "\n",
        "    input_characters = sorted(list(input_characters)+[' '])\n",
        "    target_characters = sorted(list(target_characters)+[' '])\n",
        "    num_encoder_tokens = len(input_characters)\n",
        "    num_decoder_tokens = len(target_characters)\n",
        "    max_encoder_seq_length = max([len(txt) for txt in input_texts])\n",
        "    max_decoder_seq_length = max([len(txt) for txt in target_texts])\n",
        "\n",
        "    input_token_index = dict([(char, i) for i, char in enumerate(input_characters)])\n",
        "    target_token_index = dict([(char, i) for i, char in enumerate(target_characters)])\n",
        "\n",
        "    encoder_input_data = np.zeros( (len(input_texts), max_encoder_seq_length), dtype=\"float32\")\n",
        "    decoder_input_data = np.zeros((len(input_texts), max_decoder_seq_length), dtype=\"float32\")\n",
        "    decoder_target_data = np.zeros( (len(input_texts), max_decoder_seq_length, num_decoder_tokens), dtype=\"float32\")\n",
        "\n",
        "    for i, (input_text, target_text) in enumerate(zip(input_texts, target_texts)):\n",
        "        for t, char in enumerate(input_text):\n",
        "            encoder_input_data[i, t] = input_token_index[char]\n",
        "        encoder_input_data[i, t+1:] = input_token_index[' ']\n",
        "\n",
        "        for t, char in enumerate(target_text):\n",
        "            decoder_input_data[i, t] = target_token_index[char]\n",
        "        decoder_input_data[i, t+1:] = input_token_index[' ']\n",
        "\n",
        "        for t, char in enumerate(target_text):        \n",
        "            if t > 0:\n",
        "                decoder_target_data[i, t - 1, target_token_index[char]] = 1.0\n",
        "        decoder_target_data[i, t:, target_token_index[\" \"]] = 1.0\n",
        "\n",
        "    return input_texts, target_text, encoder_input_data, decoder_input_data, decoder_target_data, num_encoder_tokens,num_decoder_tokens,\\\n",
        "          max_encoder_seq_length, max_decoder_seq_length, input_token_index, target_token_index\n",
        "              "
      ],
      "execution_count": 6,
      "outputs": []
    },
    {
      "cell_type": "code",
      "metadata": {
        "colab": {
          "base_uri": "https://localhost:8080/"
        },
        "id": "oqkstIK0nWDg",
        "outputId": "a0e40f2e-c018-4f95-b465-563f3acfa6fd"
      },
      "source": [
        "input_texts, target_text, encoder_input_data, decoder_input_data, decoder_target_data, num_encoder_tokens,num_decoder_tokens,\\\n",
        " max_encoder_seq_length, max_decoder_seq_length, input_token_index, target_token_index = prepare_data(data_path, batch_size, num_samples)"
      ],
      "execution_count": 7,
      "outputs": [
        {
          "output_type": "stream",
          "text": [
            "\n"
          ],
          "name": "stdout"
        }
      ]
    },
    {
      "cell_type": "code",
      "metadata": {
        "id": "3AlM6BPaqks5"
      },
      "source": [
        "hidden_layers=1\n",
        "dropout=0.2\n",
        "rec_dropout=0.2"
      ],
      "execution_count": 9,
      "outputs": []
    },
    {
      "cell_type": "markdown",
      "metadata": {
        "id": "c8jI4R3avaOH"
      },
      "source": [
        "**BUILDING MODEL**"
      ]
    },
    {
      "cell_type": "code",
      "metadata": {
        "id": "6Cpu99lNme3O"
      },
      "source": [
        "def build_model(encoder_input_size, decoder_input_size, embedding_size, latent_dim, hidden_layers, input_vocab, target_vocab, dropout, rec_dropout, cell_type='LSTM'):\n",
        "  with tf.device('/device:GPU:0'):  \n",
        "    # Encoder Inputs\n",
        "    encoder_inputs = Input(shape=(encoder_input_size))\n",
        "    encoder_embeddings = Embedding(input_vocab, embedding_size)(encoder_inputs)\n",
        "    #Decoder Inputs\n",
        "    decoder_inputs = Input(shape=(decoder_input_size))\n",
        "    decoder_embeddings = Embedding(target_vocab, embedding_size)(decoder_inputs)\n",
        "\n",
        "    if cell_type == 'RNN':\n",
        "      # Encoder    \n",
        "      encoder_RNNs = [SimpleRNN(latent_dim, dropout= dropout, recurrent_dropout=rec_dropout, return_state=True, return_sequences=True) for _ in range(hidden_layers)]\n",
        "      encoder_states = []\n",
        "      encoder_output, state_h = encoder_RNNs[0](encoder_embeddings)\n",
        "      encoder_states.extend([state_h])\n",
        "      for i in range(1, hidden_layers):\n",
        "        encoder_output, state_h_e = encoder_RNNs[i](encoder_output)\n",
        "        encoder_states.append(state_h_e)\n",
        "\n",
        "      # Decoder    \n",
        "      decoder_RNNs, decoder_states = [], []\n",
        "      decoder_RNNs.append(SimpleRNN(latent_dim, dropout= dropout, recurrent_dropout=rec_dropout, return_state=True, return_sequences=True))\n",
        "      decoder_output, state_h = decoder_RNNs[0](decoder_embeddings, initial_state=encoder_states[0])\n",
        "      decoder_states.append(state_h)\n",
        "      for i in range(1, hidden_layers):\n",
        "        decoder_RNNs.append(SimpleRNN(latent_dim, dropout= dropout, recurrent_dropout=rec_dropout, return_sequences=True, return_state=True))\n",
        "        decoder_output, state_h_d = decoder_RNNs[i](decoder_output, initial_state=encoder_states[i])\n",
        "        decoder_states.append(state_h_d)\n",
        "\n",
        "      decoder_dense = keras.layers.Dense(target_vocab, activation=\"softmax\")\n",
        "      decoder_output = decoder_dense(decoder_output)\n",
        "      model = Model([encoder_inputs, decoder_inputs], decoder_output)\n",
        "\n",
        "      # Encoder (Inference)\n",
        "      encoder_states_i = []\n",
        "      encoder_output_i, state_h_i = encoder_RNNs[0](encoder_embeddings)\n",
        "      encoder_states_i.append(state_h_i)\n",
        "      for i in range(1, hidden_layers):\n",
        "        encoder_output_i, state_h_e, state_c_e = encoder_RNNs[i](encoder_output_i)\n",
        "        encoder_states_i.append(state_h_e)\n",
        "      encoder_model = Model(encoder_inputs, encoder_states_i)\n",
        "\n",
        "      # Decoder (Inference)\n",
        "      decoder_states_inputs = [keras.Input(shape=(latent_dim)) for _ in range(hidden_layers)]\n",
        "      decoder_states_i = []\n",
        "      decoder_output_i, state_h_d_i = decoder_RNNs[0](decoder_embeddings, initial_state=decoder_states_inputs[0])\n",
        "      decoder_states_i.append(state_h_d_i)\n",
        "      for i in range(1, hidden_layers):\n",
        "        decoder_output_i, state_h_d_i = decoder_RNNs[i](decoder_output_i, initial_state=decoder_states_inputs[i])\n",
        "        decoder_states_i.append(state_h_d_i)\n",
        "\n",
        "      decoder_output_i = decoder_dense(decoder_output_i)\n",
        "      decoder_model = keras.models.Model([decoder_inputs] + decoder_states_inputs, [decoder_output_i] + decoder_states_i)\n",
        "\n",
        "    elif cell_type == 'GRU':\n",
        "      # Encoder    \n",
        "      encoder_GRUs = [GRU(latent_dim, dropout=dropout, recurrent_dropout=rec_dropout, return_state=True, return_sequences=True) for _ in range(hidden_layers)]\n",
        "      encoder_states = []\n",
        "      encoder_output, state_h = encoder_GRUs[0](encoder_embeddings)\n",
        "      encoder_states.extend([state_h])\n",
        "      for i in range(1, hidden_layers):\n",
        "        encoder_output, state_h_e = encoder_GRUs[i](encoder_output)\n",
        "        encoder_states.append(state_h_e)\n",
        "\n",
        "      # Decoder    \n",
        "      decoder_GRUs, decoder_states = [], []\n",
        "      decoder_GRUs.append(GRU(latent_dim, dropout=dropout, recurrent_dropout=rec_dropout, return_state=True, return_sequences=True))\n",
        "      decoder_output, state_h = decoder_GRUs[0](decoder_embeddings, initial_state=encoder_states[0])\n",
        "      decoder_states.append(state_h)\n",
        "      for i in range(1, hidden_layers):\n",
        "        decoder_GRUs.append(GRU(latent_dim, dropout=dropout, recurrent_dropout=rec_dropout, return_sequences=True, return_state=True))\n",
        "        decoder_output, state_h_d = decoder_GRUs[i](decoder_output, initial_state=encoder_states[i])\n",
        "        decoder_states.append(state_h_d)\n",
        "\n",
        "      decoder_dense = keras.layers.Dense(target_vocab, activation=\"softmax\")\n",
        "      decoder_output = decoder_dense(decoder_output)\n",
        "      model = Model([encoder_inputs, decoder_inputs], decoder_output)\n",
        "\n",
        "      # Encoder (Inference)\n",
        "      encoder_states_i = []\n",
        "      encoder_output_i, state_h_i = encoder_GRUs[0](encoder_embeddings)\n",
        "      encoder_states_i.append(state_h_i)\n",
        "      for i in range(1, hidden_layers):\n",
        "        encoder_output_i, state_h_e = encoder_GRUs[i](encoder_output_i)\n",
        "        encoder_states_i.append(state_h_e)\n",
        "      encoder_model = Model(encoder_inputs, encoder_states_i)\n",
        "\n",
        "      # Decoder (Inference)\n",
        "      decoder_states_inputs = [keras.Input(shape=(latent_dim)) for _ in range(hidden_layers)]\n",
        "      decoder_states_i = []\n",
        "      decoder_output_i, state_h_d_i = decoder_GRUs[0](decoder_embeddings, initial_state=decoder_states_inputs[0])\n",
        "      decoder_states_i.append(state_h_d_i)\n",
        "      for i in range(1, hidden_layers):\n",
        "        decoder_output_i, state_h_d_i = decoder_GRUs[i](decoder_output_i, initial_state=decoder_states_inputs[i])\n",
        "        decoder_states_i.append(state_h_d_i)\n",
        "\n",
        "      decoder_output_i = decoder_dense(decoder_output_i)\n",
        "      decoder_model = keras.models.Model([decoder_inputs] + decoder_states_inputs, [decoder_output_i] + decoder_states_i)\n",
        "\n",
        "    else:\n",
        "      # Encoder\n",
        "      encoder_inputs = Input(shape=(encoder_input_size))\n",
        "      encoder_embeddings = Embedding(input_vocab, embedding_size)(encoder_inputs)\n",
        "      encoder_LSTMs = [LSTM(latent_dim, dropout=dropout, recurrent_dropout=rec_dropout, return_state=True, return_sequences=True) for _ in range(hidden_layers)]\n",
        "      encoder_states = []\n",
        "      encoder_output, state_h, state_c = encoder_LSTMs[0](encoder_embeddings)\n",
        "      encoder_states.extend([state_h, state_c])\n",
        "      for i in range(1, hidden_layers):\n",
        "        encoder_output, state_h_e, state_c_e = encoder_LSTMs[i](encoder_output)\n",
        "        encoder_states.extend([state_h_e, state_c_e])\n",
        "\n",
        "      # Decoder\n",
        "      decoder_LSTMs, decoder_states = [], []\n",
        "      decoder_LSTMs.append(LSTM(latent_dim, dropout=dropout, recurrent_dropout=rec_dropout, return_state=True, return_sequences=True))\n",
        "      decoder_output, state_h, state_c = decoder_LSTMs[0](decoder_embeddings, initial_state=encoder_states[:2])\n",
        "      decoder_states.extend([state_h, state_c])\n",
        "      for i in range(1, hidden_layers):\n",
        "        decoder_LSTMs.append(LSTM(latent_dim, dropout=dropout, recurrent_dropout=rec_dropout, return_sequences=True, return_state=True))\n",
        "        decoder_output, state_h_d, state_c_d = decoder_LSTMs[i](decoder_output, initial_state=encoder_states[2*i:][:2])\n",
        "        decoder_states.extend([state_h_d, state_c_d])\n",
        "\n",
        "      decoder_dense = keras.layers.Dense(target_vocab, activation=\"softmax\")\n",
        "      decoder_output = decoder_dense(decoder_output)\n",
        "      model = Model([encoder_inputs, decoder_inputs], decoder_output)\n",
        "\n",
        "      # Encoder (Inference)\n",
        "      encoder_states_i = []\n",
        "      encoder_output_i, state_h_i, state_c_i = encoder_LSTMs[0](encoder_embeddings)\n",
        "      encoder_states_i.extend([state_h_i, state_c_i])\n",
        "      for i in range(1, hidden_layers):\n",
        "        encoder_output_i, state_h_e, state_c_e = encoder_LSTMs[i](encoder_output_i)\n",
        "        encoder_states_i.extend([state_h_e, state_c_e])\n",
        "      encoder_model = Model(encoder_inputs, encoder_states_i)\n",
        "\n",
        "      # Decoder (Inference)\n",
        "      decoder_states_inputs = [keras.Input(shape=(latent_dim)) for _ in range(2*hidden_layers)]\n",
        "      decoder_states_i = []\n",
        "      decoder_output_i, state_h_d_i, state_c_d_i = decoder_LSTMs[0](decoder_embeddings, initial_state=decoder_states_inputs[:2])\n",
        "      decoder_states_i.extend([state_h_d_i, state_c_d_i])\n",
        "      for i in range(1, hidden_layers):\n",
        "        decoder_output_i, state_h_d_i, state_c_d_i = decoder_LSTMs[i](decoder_output_i, initial_state=decoder_states_inputs[2*i:][:2])\n",
        "        decoder_states_i.extend([state_h_d_i, state_c_d_i])\n",
        "\n",
        "      decoder_output_i = decoder_dense(decoder_output_i)\n",
        "      decoder_model = keras.models.Model([decoder_inputs] + decoder_states_inputs, [decoder_output_i] + decoder_states_i)\n",
        "\n",
        "    return model, encoder_model, decoder_model"
      ],
      "execution_count": 10,
      "outputs": []
    },
    {
      "cell_type": "code",
      "metadata": {
        "colab": {
          "base_uri": "https://localhost:8080/"
        },
        "id": "HwcGpKy5mipH",
        "outputId": "1ec4b8b5-9ab7-4678-bdec-18fb64dc440f"
      },
      "source": [
        "model, encoder_model, decoder_model= build_model(max_encoder_seq_length, max_decoder_seq_length, embedding_size,\n",
        "                                                 latent_dim,hidden_layers,num_encoder_tokens, num_decoder_tokens,dropout,rec_dropout, cell_type= 'LSTM') \n",
        "model.summary()"
      ],
      "execution_count": 11,
      "outputs": [
        {
          "output_type": "stream",
          "text": [
            "Model: \"model\"\n",
            "__________________________________________________________________________________________________\n",
            "Layer (type)                    Output Shape         Param #     Connected to                     \n",
            "==================================================================================================\n",
            "input_3 (InputLayer)            [(None, 20)]         0                                            \n",
            "__________________________________________________________________________________________________\n",
            "input_2 (InputLayer)            [(None, 21)]         0                                            \n",
            "__________________________________________________________________________________________________\n",
            "embedding_2 (Embedding)         (None, 20, 128)      3456        input_3[0][0]                    \n",
            "__________________________________________________________________________________________________\n",
            "embedding_1 (Embedding)         (None, 21, 128)      8448        input_2[0][0]                    \n",
            "__________________________________________________________________________________________________\n",
            "lstm (LSTM)                     [(None, 20, 128), (N 131584      embedding_2[0][0]                \n",
            "__________________________________________________________________________________________________\n",
            "lstm_1 (LSTM)                   [(None, 21, 128), (N 131584      embedding_1[0][0]                \n",
            "                                                                 lstm[0][1]                       \n",
            "                                                                 lstm[0][2]                       \n",
            "__________________________________________________________________________________________________\n",
            "dense (Dense)                   (None, 21, 66)       8514        lstm_1[0][0]                     \n",
            "==================================================================================================\n",
            "Total params: 283,586\n",
            "Trainable params: 283,586\n",
            "Non-trainable params: 0\n",
            "__________________________________________________________________________________________________\n"
          ],
          "name": "stdout"
        }
      ]
    },
    {
      "cell_type": "code",
      "metadata": {
        "id": "KBTyqR3yolfH"
      },
      "source": [
        "model.compile(\n",
        "    optimizer=\"rmsprop\", loss=\"categorical_crossentropy\", metrics=[\"accuracy\"]\n",
        ")\n",
        "model.fit(\n",
        "    [encoder_input_data, decoder_input_data],\n",
        "    decoder_target_data,\n",
        "    batch_size=batch_size,\n",
        "    epochs=epochs,\n",
        "    validation_split=0.2,\n",
        ")"
      ],
      "execution_count": null,
      "outputs": []
    },
    {
      "cell_type": "markdown",
      "metadata": {
        "id": "6bCRhqYhvoaB"
      },
      "source": [
        "**WANDB**"
      ]
    },
    {
      "cell_type": "code",
      "metadata": {
        "id": "zEYaQ7j1vmha"
      },
      "source": [
        "!pip install --upgrade wandb"
      ],
      "execution_count": null,
      "outputs": []
    },
    {
      "cell_type": "code",
      "metadata": {
        "id": "P5XhkrLGvs-o"
      },
      "source": [
        "# Init wandb\n",
        "import wandb\n",
        "from wandb.keras import WandbCallback\n",
        "\n",
        "wandb.init(project=\"assignment-3\", entity=\"ravi-kumar\")"
      ],
      "execution_count": null,
      "outputs": []
    },
    {
      "cell_type": "code",
      "metadata": {
        "id": "1I-hS8_Gvs7V"
      },
      "source": [
        "# Configure the sweep – specify the parameters to search through, the search strategy, the optimization metric et all.\n",
        "sweep_config = {\n",
        "    'method': 'random', #grid, random\n",
        "    'metric': {\n",
        "      'name': 'accuracy',\n",
        "      'goal': 'maximize'   \n",
        "    },\n",
        "    'parameters': {\n",
        "        'cell_type' : {\n",
        "            'values': ['RNN', 'GRU', 'LSTM']\n",
        "        },\n",
        "        'embedding_size':{\n",
        "            'values': [256, 512]\n",
        "        },\n",
        "        'hidden_layers' :{\n",
        "            'values': [2, 3]\n",
        "        },\n",
        "        'hidden_layer_size' :{\n",
        "            'values': [64, 128]\n",
        "        },\n",
        "        'dropout' :{\n",
        "            'values': [0.2, 0.3]\n",
        "        },\n",
        "        # 'rec_dropout' :{\n",
        "        #     'values': [0.2, 0.3]\n",
        "        # },\n",
        "        'batch_size' : {\n",
        "            'values': [32, 64]\n",
        "        },\n",
        "        'epochs':{\n",
        "            'values': [30]\n",
        "        }\n",
        "    }\n",
        "}"
      ],
      "execution_count": null,
      "outputs": []
    },
    {
      "cell_type": "code",
      "metadata": {
        "id": "a2LkcbuJv2Ox"
      },
      "source": [
        "def train():\n",
        "  with tf.device('/device:GPU:0'):    \n",
        "    # Wandb Configuration\n",
        "    config_defaults = {\n",
        "        'cell_type' : 'RNN',\n",
        "        'embedding_size': 128,\n",
        "        'hidden_layers' : 1,\n",
        "        'hidden_layer_size' : 128,\n",
        "        'dropout' : 0.3,\n",
        "        'rec_dropout' : 0.2,\n",
        "        'batch_size' : 64,\n",
        "        'epochs': 10\n",
        "    }\n",
        "    wandb.init(config=config_defaults)\n",
        "    config= wandb.config\n",
        "\n",
        "    # Parameters\n",
        "    batch_size = config.batch_size\n",
        "    epochs = config.epochs\n",
        "    latent_dim = config.hidden_layer_size\n",
        "    embedding_size = config.embedding_size\n",
        "    hidden_layers = config.hidden_layers\n",
        "    cell_type = config.cell_type\n",
        "    dropout = config.dropout\n",
        "    rec_dropout = 0 #config.rec_dropout\n",
        "    num_samples = 44205\n",
        "    # Path to the data txt file on disk.\n",
        "    data_path = \"/content/drive/MyDrive/Deep Learning/dakshina_dataset_v1.0/hi/lexicons/hi.translit.sampled.train.tsv\"\n",
        "\n",
        "    # Preparing/Loading Data\n",
        "    input_texts, target_text, encoder_input_data, decoder_input_data, decoder_target_data, num_encoder_tokens,num_decoder_tokens,\\\n",
        "    max_encoder_seq_length, max_decoder_seq_length, input_token_index, target_token_index = prepare_data(data_path, batch_size, num_samples)\n",
        "\n",
        "    # Building Model\n",
        "    model, encoder_model, decoder_model= build_model(max_encoder_seq_length, max_decoder_seq_length, embedding_size,\n",
        "                                                 latent_dim, hidden_layers, num_encoder_tokens, num_decoder_tokens, dropout, rec_dropout, cell_type= cell_type) \n",
        "    \n",
        "    # Training Model\n",
        "    model.compile(\n",
        "    optimizer=\"rmsprop\", loss=\"categorical_crossentropy\", metrics=[\"accuracy\"]\n",
        "    )\n",
        "    model.fit(\n",
        "        [encoder_input_data, decoder_input_data],\n",
        "        decoder_target_data,\n",
        "        batch_size=batch_size,\n",
        "        epochs=epochs,\n",
        "        validation_split=0.2,\n",
        "        callbacks=[WandbCallback()]\n",
        "    )"
      ],
      "execution_count": null,
      "outputs": []
    },
    {
      "cell_type": "code",
      "metadata": {
        "id": "dP86kwprv5JW"
      },
      "source": [
        "sweep_id = wandb.sweep(sweep_config, entity=\"ravi-kumar\", project=\"assignment-3\")"
      ],
      "execution_count": null,
      "outputs": []
    },
    {
      "cell_type": "code",
      "metadata": {
        "id": "TYFwNH2Rv7F1"
      },
      "source": [
        "wandb.agent(sweep_id, train)"
      ],
      "execution_count": null,
      "outputs": []
    },
    {
      "cell_type": "markdown",
      "metadata": {
        "id": "ICB6je0o_7cD"
      },
      "source": [
        "**TESTING**"
      ]
    },
    {
      "cell_type": "code",
      "metadata": {
        "id": "KrMUBemX_7Eh"
      },
      "source": [
        "def prepare_test_data(test_path, batch_size, num_samples, input_token_index, target_token_index):\n",
        "  with tf.device('/device:GPU:0'):  \n",
        "    input_texts, target_texts, targets = [], [], []\n",
        "    \n",
        "    with open(test_path, \"r\", encoding=\"utf-8\") as f:\n",
        "        lines = f.read().split(\"\\n\")\n",
        "    for line in lines[: min(num_samples, len(lines) - 1)]:\n",
        "        target_text, input_text, _ = line.split(\"\\t\")\n",
        "        # We use \"tab\" as the \"start sequence\" character\n",
        "        # for the targets, and \"\\n\" as \"end sequence\" character.\n",
        "        targets.append(target_text.strip(\"\\t\\n \"))\n",
        "        target_text = \"\\t\" + target_text.strip(\"\\t\\n \") + \"\\n\"\n",
        "        input_texts.append(input_text.strip(\"\\t\\n \"))\n",
        "        target_texts.append(target_text)\n",
        "\n",
        "    encoder_input_data = np.zeros(\n",
        "        (len(input_texts), max_encoder_seq_length), dtype=\"float32\"\n",
        "    )\n",
        "    decoder_input_data = np.zeros(\n",
        "        (len(input_texts), max_decoder_seq_length), dtype=\"float32\"\n",
        "    )\n",
        "    decoder_target_data = np.zeros(\n",
        "        (len(input_texts), max_decoder_seq_length, num_decoder_tokens), dtype=\"float32\"\n",
        "    )\n",
        "\n",
        "    for i, (input_text, target_text) in enumerate(zip(input_texts, target_texts)):\n",
        "        for t, char in enumerate(input_text):\n",
        "            encoder_input_data[i, t] = input_token_index[char]\n",
        "        encoder_input_data[i, t+1:] = input_token_index[' ']          \n",
        "\n",
        "        for t, char in enumerate(target_text):\n",
        "            decoder_input_data[i, t] = target_token_index[char]\n",
        "        decoder_input_data[i, t+1:] = target_token_index[' ']          \n",
        "\n",
        "        for t, char in enumerate(target_text):        \n",
        "            if t > 0:\n",
        "                decoder_target_data[i, t - 1, target_token_index[char]] = 1.0\n",
        "        decoder_target_data[i, t:, target_token_index[\" \"]] = 1.0\n",
        "\n",
        "    return input_texts, targets, encoder_input_data, decoder_input_data, decoder_target_data\n",
        "              "
      ],
      "execution_count": 15,
      "outputs": []
    },
    {
      "cell_type": "code",
      "metadata": {
        "id": "Fy-ig1MuGfBj"
      },
      "source": [
        "def decode_sequence(input_seq, encoder_model, decoder_model, reverse_target_char_index):\n",
        "  with tf.device('/device:GPU:0'):\n",
        "    # Encode the input as state vectors.\n",
        "    states_value = encoder_model.predict(input_seq)\n",
        "\n",
        "    # Generate empty target sequence of length 1.\n",
        "    target_seq = np.zeros((1, 1))\n",
        "    # Populate the first character of target sequence with the start character.\n",
        "    target_seq[0, 0] = target_token_index[\"\\t\"]\n",
        "\n",
        "    # Sampling loop for a batch of sequences\n",
        "    # (to simplify, here we assume a batch of size 1).\n",
        "    stop_condition = False\n",
        "    decoded_sentence = \"\"\n",
        "    while not stop_condition:\n",
        "        decoder_output = decoder_model.predict([target_seq] + [states_value])\n",
        "        # print(decoder_output)\n",
        "        output_tokens, states = decoder_output[0], decoder_output[1:]\n",
        "        # Sample a token\n",
        "        sampled_token_index = np.argmax(output_tokens[0, -1, :])\n",
        "        sampled_char = reverse_target_char_index[sampled_token_index]\n",
        "        decoded_sentence += sampled_char\n",
        "        # Exit condition: either hit max length\n",
        "        # or find stop character.\n",
        "        if sampled_char == \"\\n\" or len(decoded_sentence) > max_decoder_seq_length:\n",
        "            stop_condition = True\n",
        "\n",
        "        # Update the target sequence (of length 1).\n",
        "        # target_seq = np.zeros((1, 1))\n",
        "        target_seq[0, 0] = sampled_token_index\n",
        "\n",
        "        # Update states\n",
        "        states_value = [states]\n",
        "    return decoded_sentence    "
      ],
      "execution_count": 16,
      "outputs": []
    },
    {
      "cell_type": "code",
      "metadata": {
        "id": "QNrXYBUbGjm6"
      },
      "source": [
        "def evaluate(data_path, encoder_model, decoder_model, batch_size, input_token_index, target_token_index):\n",
        "  with tf.device('/device:GPU:0'):\n",
        "    num_samples = 10000\n",
        "    # Preparing/Loading Test Data\n",
        "    input_texts, target_texts, encoder_input_data, decoder_input_data, decoder_target_data = \\\n",
        "    prepare_test_data(data_path, batch_size, num_samples, input_token_index, target_token_index)\n",
        "    # Reverse-lookup token index to decode sequences back to\n",
        "    # something readable.\n",
        "    reverse_input_char_index = dict((i, char) for char, i in input_token_index.items())\n",
        "    reverse_target_char_index = dict((i, char) for char, i in target_token_index.items())\n",
        "    output_path = '/content/drive/MyDrive/dakshina_dataset_v1.0/hi/lexicons/eng-hi.txt'\n",
        "    correct_predictions = 0\n",
        "    with open(output_path, \"a\", encoding=\"utf-8\") as f:\n",
        "      for seq_index in tqdm(range(encoder_input_data.shape[0]), unit='Words', desc='Words Decoded'):\n",
        "        # Take one sequence (part of the training set)\n",
        "        # for trying out decoding.\n",
        "        # print(input_texts[seq_index],target_texts[seq_index])\n",
        "        input_seq = encoder_input_data[seq_index : seq_index + 1]\n",
        "        decoded_word = decode_sequence(input_seq, encoder_model, decoder_model, reverse_target_char_index).strip(\"\\t\\n \")\n",
        "        f.write(input_texts[seq_index]+'\\t'+decoded_word)\n",
        "        # print('<',decoded_word,'><',target_texts[seq_index],'>')\n",
        "        if decoded_word==target_texts[seq_index]:\n",
        "          correct_predictions+=1\n",
        "        # print(\"-\")\n",
        "        # print(\"Input sentence:\", input_texts[seq_index])\n",
        "        # print(\"Decoded sentence:\", decoded_word)\n",
        "      accuracy = correct_predictions/(seq_index+1)\n",
        "      print('Accuracy : ', accuracy,'\\tCorrect Predictions : ',correct_predictions,'/',(seq_index+1))"
      ],
      "execution_count": 20,
      "outputs": []
    },
    {
      "cell_type": "code",
      "metadata": {
        "id": "0yH_cMKKHKDf"
      },
      "source": [
        "evaluate(test_path, encoder_model, decoder_model, batch_size, input_token_index, target_token_index)"
      ],
      "execution_count": null,
      "outputs": []
    }
  ]
}